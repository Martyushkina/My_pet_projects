{
 "cells": [
  {
   "cell_type": "markdown",
   "id": "f4820701",
   "metadata": {},
   "source": [
    "# Шифт конкурс \"Займы\""
   ]
  },
  {
   "cell_type": "markdown",
   "id": "a8be45a0",
   "metadata": {},
   "source": [
    "### Разработчик модели: Мартюшева Анна Васильевна, г. Москва\n",
    "#### martyusheva.a@inbox.ru"
   ]
  },
  {
   "cell_type": "code",
   "execution_count": 1,
   "id": "ca585862",
   "metadata": {},
   "outputs": [],
   "source": [
    "import pandas as pd\n",
    "import numpy as np"
   ]
  },
  {
   "cell_type": "code",
   "execution_count": 2,
   "id": "2ba73c4d",
   "metadata": {},
   "outputs": [],
   "source": [
    "df = pd.read_csv('X_train.csv')"
   ]
  },
  {
   "cell_type": "code",
   "execution_count": 3,
   "id": "e6b63485",
   "metadata": {},
   "outputs": [
    {
     "data": {
      "text/html": [
       "<div>\n",
       "<style scoped>\n",
       "    .dataframe tbody tr th:only-of-type {\n",
       "        vertical-align: middle;\n",
       "    }\n",
       "\n",
       "    .dataframe tbody tr th {\n",
       "        vertical-align: top;\n",
       "    }\n",
       "\n",
       "    .dataframe thead th {\n",
       "        text-align: right;\n",
       "    }\n",
       "</style>\n",
       "<table border=\"1\" class=\"dataframe\">\n",
       "  <thead>\n",
       "    <tr style=\"text-align: right;\">\n",
       "      <th></th>\n",
       "      <th>0</th>\n",
       "      <th>1</th>\n",
       "      <th>2</th>\n",
       "      <th>3</th>\n",
       "      <th>4</th>\n",
       "    </tr>\n",
       "  </thead>\n",
       "  <tbody>\n",
       "    <tr>\n",
       "      <th>index</th>\n",
       "      <td>0</td>\n",
       "      <td>1</td>\n",
       "      <td>2</td>\n",
       "      <td>3</td>\n",
       "      <td>4</td>\n",
       "    </tr>\n",
       "    <tr>\n",
       "      <th>acc_now_delinq</th>\n",
       "      <td>0.0</td>\n",
       "      <td>0.0</td>\n",
       "      <td>0.0</td>\n",
       "      <td>0.0</td>\n",
       "      <td>0.0</td>\n",
       "    </tr>\n",
       "    <tr>\n",
       "      <th>addr_state</th>\n",
       "      <td>UT</td>\n",
       "      <td>CA</td>\n",
       "      <td>NV</td>\n",
       "      <td>AZ</td>\n",
       "      <td>OH</td>\n",
       "    </tr>\n",
       "    <tr>\n",
       "      <th>annual_inc</th>\n",
       "      <td>80000.0</td>\n",
       "      <td>82000.0</td>\n",
       "      <td>46080.0</td>\n",
       "      <td>30000.0</td>\n",
       "      <td>70000.0</td>\n",
       "    </tr>\n",
       "    <tr>\n",
       "      <th>chargeoff_within_12_mths</th>\n",
       "      <td>0.0</td>\n",
       "      <td>0.0</td>\n",
       "      <td>0.0</td>\n",
       "      <td>0.0</td>\n",
       "      <td>0.0</td>\n",
       "    </tr>\n",
       "    <tr>\n",
       "      <th>collections_12_mths_ex_med</th>\n",
       "      <td>0.0</td>\n",
       "      <td>0.0</td>\n",
       "      <td>0.0</td>\n",
       "      <td>0.0</td>\n",
       "      <td>0.0</td>\n",
       "    </tr>\n",
       "    <tr>\n",
       "      <th>delinq_2yrs</th>\n",
       "      <td>0.0</td>\n",
       "      <td>0.0</td>\n",
       "      <td>1.0</td>\n",
       "      <td>0.0</td>\n",
       "      <td>0.0</td>\n",
       "    </tr>\n",
       "    <tr>\n",
       "      <th>dti</th>\n",
       "      <td>30.49</td>\n",
       "      <td>7.0</td>\n",
       "      <td>17.32</td>\n",
       "      <td>7.8</td>\n",
       "      <td>13.36</td>\n",
       "    </tr>\n",
       "    <tr>\n",
       "      <th>earliest_cr_line</th>\n",
       "      <td>Oct-1996</td>\n",
       "      <td>Mar-1993</td>\n",
       "      <td>Nov-2000</td>\n",
       "      <td>Jan-2010</td>\n",
       "      <td>Jan-2002</td>\n",
       "    </tr>\n",
       "    <tr>\n",
       "      <th>emp_length</th>\n",
       "      <td>4 years</td>\n",
       "      <td>10+ years</td>\n",
       "      <td>3 years</td>\n",
       "      <td>&lt; 1 year</td>\n",
       "      <td>&lt; 1 year</td>\n",
       "    </tr>\n",
       "    <tr>\n",
       "      <th>fico_range_high</th>\n",
       "      <td>689.0</td>\n",
       "      <td>689.0</td>\n",
       "      <td>674.0</td>\n",
       "      <td>694.0</td>\n",
       "      <td>674.0</td>\n",
       "    </tr>\n",
       "    <tr>\n",
       "      <th>fico_range_low</th>\n",
       "      <td>685.0</td>\n",
       "      <td>685.0</td>\n",
       "      <td>670.0</td>\n",
       "      <td>690.0</td>\n",
       "      <td>670.0</td>\n",
       "    </tr>\n",
       "    <tr>\n",
       "      <th>funded_amnt</th>\n",
       "      <td>16000.0</td>\n",
       "      <td>6600.0</td>\n",
       "      <td>10000.0</td>\n",
       "      <td>3000.0</td>\n",
       "      <td>20000.0</td>\n",
       "    </tr>\n",
       "    <tr>\n",
       "      <th>home_ownership</th>\n",
       "      <td>RENT</td>\n",
       "      <td>MORTGAGE</td>\n",
       "      <td>MORTGAGE</td>\n",
       "      <td>OWN</td>\n",
       "      <td>RENT</td>\n",
       "    </tr>\n",
       "    <tr>\n",
       "      <th>inq_last_12m</th>\n",
       "      <td>1.0</td>\n",
       "      <td>0.0</td>\n",
       "      <td>0.0</td>\n",
       "      <td>NaN</td>\n",
       "      <td>0.0</td>\n",
       "    </tr>\n",
       "    <tr>\n",
       "      <th>installment</th>\n",
       "      <td>539.03</td>\n",
       "      <td>214.27</td>\n",
       "      <td>317.96</td>\n",
       "      <td>98.98</td>\n",
       "      <td>602.37</td>\n",
       "    </tr>\n",
       "    <tr>\n",
       "      <th>int_rate</th>\n",
       "      <td>12.99%</td>\n",
       "      <td>10.42%</td>\n",
       "      <td>8.99%</td>\n",
       "      <td>11.53%</td>\n",
       "      <td>26.30%</td>\n",
       "    </tr>\n",
       "    <tr>\n",
       "      <th>issue_d</th>\n",
       "      <td>Apr-2016</td>\n",
       "      <td>Sep-2017</td>\n",
       "      <td>Aug-2016</td>\n",
       "      <td>Aug-2015</td>\n",
       "      <td>Sep-2017</td>\n",
       "    </tr>\n",
       "    <tr>\n",
       "      <th>loan_amnt</th>\n",
       "      <td>16000.0</td>\n",
       "      <td>6600.0</td>\n",
       "      <td>10000.0</td>\n",
       "      <td>3000.0</td>\n",
       "      <td>20000.0</td>\n",
       "    </tr>\n",
       "    <tr>\n",
       "      <th>mort_acc</th>\n",
       "      <td>5.0</td>\n",
       "      <td>2.0</td>\n",
       "      <td>3.0</td>\n",
       "      <td>0.0</td>\n",
       "      <td>0.0</td>\n",
       "    </tr>\n",
       "    <tr>\n",
       "      <th>mths_since_last_delinq</th>\n",
       "      <td>50.0</td>\n",
       "      <td>NaN</td>\n",
       "      <td>10.0</td>\n",
       "      <td>NaN</td>\n",
       "      <td>24.0</td>\n",
       "    </tr>\n",
       "    <tr>\n",
       "      <th>mths_since_recent_bc_dlq</th>\n",
       "      <td>65.0</td>\n",
       "      <td>NaN</td>\n",
       "      <td>NaN</td>\n",
       "      <td>NaN</td>\n",
       "      <td>NaN</td>\n",
       "    </tr>\n",
       "    <tr>\n",
       "      <th>mths_since_recent_inq</th>\n",
       "      <td>6.0</td>\n",
       "      <td>NaN</td>\n",
       "      <td>13.0</td>\n",
       "      <td>16.0</td>\n",
       "      <td>15.0</td>\n",
       "    </tr>\n",
       "    <tr>\n",
       "      <th>num_accts_ever_120_pd</th>\n",
       "      <td>3.0</td>\n",
       "      <td>0.0</td>\n",
       "      <td>0.0</td>\n",
       "      <td>0.0</td>\n",
       "      <td>0.0</td>\n",
       "    </tr>\n",
       "    <tr>\n",
       "      <th>num_actv_bc_tl</th>\n",
       "      <td>4.0</td>\n",
       "      <td>3.0</td>\n",
       "      <td>1.0</td>\n",
       "      <td>3.0</td>\n",
       "      <td>1.0</td>\n",
       "    </tr>\n",
       "    <tr>\n",
       "      <th>num_rev_accts</th>\n",
       "      <td>17.0</td>\n",
       "      <td>8.0</td>\n",
       "      <td>23.0</td>\n",
       "      <td>11.0</td>\n",
       "      <td>3.0</td>\n",
       "    </tr>\n",
       "    <tr>\n",
       "      <th>num_sats</th>\n",
       "      <td>14.0</td>\n",
       "      <td>5.0</td>\n",
       "      <td>7.0</td>\n",
       "      <td>19.0</td>\n",
       "      <td>4.0</td>\n",
       "    </tr>\n",
       "    <tr>\n",
       "      <th>num_tl_120dpd_2m</th>\n",
       "      <td>0.0</td>\n",
       "      <td>0.0</td>\n",
       "      <td>0.0</td>\n",
       "      <td>0.0</td>\n",
       "      <td>0.0</td>\n",
       "    </tr>\n",
       "    <tr>\n",
       "      <th>num_tl_30dpd</th>\n",
       "      <td>0.0</td>\n",
       "      <td>0.0</td>\n",
       "      <td>0.0</td>\n",
       "      <td>0.0</td>\n",
       "      <td>0.0</td>\n",
       "    </tr>\n",
       "    <tr>\n",
       "      <th>num_tl_90g_dpd_24m</th>\n",
       "      <td>0.0</td>\n",
       "      <td>0.0</td>\n",
       "      <td>0.0</td>\n",
       "      <td>0.0</td>\n",
       "      <td>0.0</td>\n",
       "    </tr>\n",
       "    <tr>\n",
       "      <th>num_tl_op_past_12m</th>\n",
       "      <td>3.0</td>\n",
       "      <td>0.0</td>\n",
       "      <td>0.0</td>\n",
       "      <td>4.0</td>\n",
       "      <td>0.0</td>\n",
       "    </tr>\n",
       "    <tr>\n",
       "      <th>open_acc</th>\n",
       "      <td>14.0</td>\n",
       "      <td>5.0</td>\n",
       "      <td>7.0</td>\n",
       "      <td>19.0</td>\n",
       "      <td>4.0</td>\n",
       "    </tr>\n",
       "    <tr>\n",
       "      <th>open_il_24m</th>\n",
       "      <td>2.0</td>\n",
       "      <td>0.0</td>\n",
       "      <td>0.0</td>\n",
       "      <td>NaN</td>\n",
       "      <td>3.0</td>\n",
       "    </tr>\n",
       "    <tr>\n",
       "      <th>open_rv_24m</th>\n",
       "      <td>3.0</td>\n",
       "      <td>1.0</td>\n",
       "      <td>3.0</td>\n",
       "      <td>NaN</td>\n",
       "      <td>1.0</td>\n",
       "    </tr>\n",
       "    <tr>\n",
       "      <th>percent_bc_gt_75</th>\n",
       "      <td>100.0</td>\n",
       "      <td>100.0</td>\n",
       "      <td>0.0</td>\n",
       "      <td>0.0</td>\n",
       "      <td>100.0</td>\n",
       "    </tr>\n",
       "    <tr>\n",
       "      <th>pub_rec</th>\n",
       "      <td>1.0</td>\n",
       "      <td>1.0</td>\n",
       "      <td>0.0</td>\n",
       "      <td>0.0</td>\n",
       "      <td>0.0</td>\n",
       "    </tr>\n",
       "    <tr>\n",
       "      <th>pub_rec_bankruptcies</th>\n",
       "      <td>1.0</td>\n",
       "      <td>1.0</td>\n",
       "      <td>0.0</td>\n",
       "      <td>0.0</td>\n",
       "      <td>0.0</td>\n",
       "    </tr>\n",
       "    <tr>\n",
       "      <th>purpose</th>\n",
       "      <td>credit_card</td>\n",
       "      <td>credit_card</td>\n",
       "      <td>credit_card</td>\n",
       "      <td>car</td>\n",
       "      <td>other</td>\n",
       "    </tr>\n",
       "    <tr>\n",
       "      <th>revol_util</th>\n",
       "      <td>56.1%</td>\n",
       "      <td>88.3%</td>\n",
       "      <td>18.1%</td>\n",
       "      <td>33.4%</td>\n",
       "      <td>88.6%</td>\n",
       "    </tr>\n",
       "    <tr>\n",
       "      <th>tax_liens</th>\n",
       "      <td>0.0</td>\n",
       "      <td>0.0</td>\n",
       "      <td>0.0</td>\n",
       "      <td>0.0</td>\n",
       "      <td>0.0</td>\n",
       "    </tr>\n",
       "    <tr>\n",
       "      <th>term</th>\n",
       "      <td>36 months</td>\n",
       "      <td>36 months</td>\n",
       "      <td>36 months</td>\n",
       "      <td>36 months</td>\n",
       "      <td>60 months</td>\n",
       "    </tr>\n",
       "    <tr>\n",
       "      <th>title</th>\n",
       "      <td>Credit card refinancing</td>\n",
       "      <td>Credit card refinancing</td>\n",
       "      <td>Credit card refinancing</td>\n",
       "      <td>Car financing</td>\n",
       "      <td>Other</td>\n",
       "    </tr>\n",
       "    <tr>\n",
       "      <th>total_acc</th>\n",
       "      <td>26.0</td>\n",
       "      <td>11.0</td>\n",
       "      <td>31.0</td>\n",
       "      <td>24.0</td>\n",
       "      <td>16.0</td>\n",
       "    </tr>\n",
       "    <tr>\n",
       "      <th>verification_status</th>\n",
       "      <td>Source Verified</td>\n",
       "      <td>Not Verified</td>\n",
       "      <td>Source Verified</td>\n",
       "      <td>Source Verified</td>\n",
       "      <td>Not Verified</td>\n",
       "    </tr>\n",
       "    <tr>\n",
       "      <th>zip_code</th>\n",
       "      <td>847xx</td>\n",
       "      <td>900xx</td>\n",
       "      <td>895xx</td>\n",
       "      <td>853xx</td>\n",
       "      <td>453xx</td>\n",
       "    </tr>\n",
       "  </tbody>\n",
       "</table>\n",
       "</div>"
      ],
      "text/plain": [
       "                                                  0                        1  \\\n",
       "index                                             0                        1   \n",
       "acc_now_delinq                                  0.0                      0.0   \n",
       "addr_state                                       UT                       CA   \n",
       "annual_inc                                  80000.0                  82000.0   \n",
       "chargeoff_within_12_mths                        0.0                      0.0   \n",
       "collections_12_mths_ex_med                      0.0                      0.0   \n",
       "delinq_2yrs                                     0.0                      0.0   \n",
       "dti                                           30.49                      7.0   \n",
       "earliest_cr_line                           Oct-1996                 Mar-1993   \n",
       "emp_length                                  4 years                10+ years   \n",
       "fico_range_high                               689.0                    689.0   \n",
       "fico_range_low                                685.0                    685.0   \n",
       "funded_amnt                                 16000.0                   6600.0   \n",
       "home_ownership                                 RENT                 MORTGAGE   \n",
       "inq_last_12m                                    1.0                      0.0   \n",
       "installment                                  539.03                   214.27   \n",
       "int_rate                                     12.99%                   10.42%   \n",
       "issue_d                                    Apr-2016                 Sep-2017   \n",
       "loan_amnt                                   16000.0                   6600.0   \n",
       "mort_acc                                        5.0                      2.0   \n",
       "mths_since_last_delinq                         50.0                      NaN   \n",
       "mths_since_recent_bc_dlq                       65.0                      NaN   \n",
       "mths_since_recent_inq                           6.0                      NaN   \n",
       "num_accts_ever_120_pd                           3.0                      0.0   \n",
       "num_actv_bc_tl                                  4.0                      3.0   \n",
       "num_rev_accts                                  17.0                      8.0   \n",
       "num_sats                                       14.0                      5.0   \n",
       "num_tl_120dpd_2m                                0.0                      0.0   \n",
       "num_tl_30dpd                                    0.0                      0.0   \n",
       "num_tl_90g_dpd_24m                              0.0                      0.0   \n",
       "num_tl_op_past_12m                              3.0                      0.0   \n",
       "open_acc                                       14.0                      5.0   \n",
       "open_il_24m                                     2.0                      0.0   \n",
       "open_rv_24m                                     3.0                      1.0   \n",
       "percent_bc_gt_75                              100.0                    100.0   \n",
       "pub_rec                                         1.0                      1.0   \n",
       "pub_rec_bankruptcies                            1.0                      1.0   \n",
       "purpose                                 credit_card              credit_card   \n",
       "revol_util                                    56.1%                    88.3%   \n",
       "tax_liens                                       0.0                      0.0   \n",
       "term                                      36 months                36 months   \n",
       "title                       Credit card refinancing  Credit card refinancing   \n",
       "total_acc                                      26.0                     11.0   \n",
       "verification_status                 Source Verified             Not Verified   \n",
       "zip_code                                      847xx                    900xx   \n",
       "\n",
       "                                                  2                3  \\\n",
       "index                                             2                3   \n",
       "acc_now_delinq                                  0.0              0.0   \n",
       "addr_state                                       NV               AZ   \n",
       "annual_inc                                  46080.0          30000.0   \n",
       "chargeoff_within_12_mths                        0.0              0.0   \n",
       "collections_12_mths_ex_med                      0.0              0.0   \n",
       "delinq_2yrs                                     1.0              0.0   \n",
       "dti                                           17.32              7.8   \n",
       "earliest_cr_line                           Nov-2000         Jan-2010   \n",
       "emp_length                                  3 years         < 1 year   \n",
       "fico_range_high                               674.0            694.0   \n",
       "fico_range_low                                670.0            690.0   \n",
       "funded_amnt                                 10000.0           3000.0   \n",
       "home_ownership                             MORTGAGE              OWN   \n",
       "inq_last_12m                                    0.0              NaN   \n",
       "installment                                  317.96            98.98   \n",
       "int_rate                                      8.99%           11.53%   \n",
       "issue_d                                    Aug-2016         Aug-2015   \n",
       "loan_amnt                                   10000.0           3000.0   \n",
       "mort_acc                                        3.0              0.0   \n",
       "mths_since_last_delinq                         10.0              NaN   \n",
       "mths_since_recent_bc_dlq                        NaN              NaN   \n",
       "mths_since_recent_inq                          13.0             16.0   \n",
       "num_accts_ever_120_pd                           0.0              0.0   \n",
       "num_actv_bc_tl                                  1.0              3.0   \n",
       "num_rev_accts                                  23.0             11.0   \n",
       "num_sats                                        7.0             19.0   \n",
       "num_tl_120dpd_2m                                0.0              0.0   \n",
       "num_tl_30dpd                                    0.0              0.0   \n",
       "num_tl_90g_dpd_24m                              0.0              0.0   \n",
       "num_tl_op_past_12m                              0.0              4.0   \n",
       "open_acc                                        7.0             19.0   \n",
       "open_il_24m                                     0.0              NaN   \n",
       "open_rv_24m                                     3.0              NaN   \n",
       "percent_bc_gt_75                                0.0              0.0   \n",
       "pub_rec                                         0.0              0.0   \n",
       "pub_rec_bankruptcies                            0.0              0.0   \n",
       "purpose                                 credit_card              car   \n",
       "revol_util                                    18.1%            33.4%   \n",
       "tax_liens                                       0.0              0.0   \n",
       "term                                      36 months        36 months   \n",
       "title                       Credit card refinancing    Car financing   \n",
       "total_acc                                      31.0             24.0   \n",
       "verification_status                 Source Verified  Source Verified   \n",
       "zip_code                                      895xx            853xx   \n",
       "\n",
       "                                       4  \n",
       "index                                  4  \n",
       "acc_now_delinq                       0.0  \n",
       "addr_state                            OH  \n",
       "annual_inc                       70000.0  \n",
       "chargeoff_within_12_mths             0.0  \n",
       "collections_12_mths_ex_med           0.0  \n",
       "delinq_2yrs                          0.0  \n",
       "dti                                13.36  \n",
       "earliest_cr_line                Jan-2002  \n",
       "emp_length                      < 1 year  \n",
       "fico_range_high                    674.0  \n",
       "fico_range_low                     670.0  \n",
       "funded_amnt                      20000.0  \n",
       "home_ownership                      RENT  \n",
       "inq_last_12m                         0.0  \n",
       "installment                       602.37  \n",
       "int_rate                          26.30%  \n",
       "issue_d                         Sep-2017  \n",
       "loan_amnt                        20000.0  \n",
       "mort_acc                             0.0  \n",
       "mths_since_last_delinq              24.0  \n",
       "mths_since_recent_bc_dlq             NaN  \n",
       "mths_since_recent_inq               15.0  \n",
       "num_accts_ever_120_pd                0.0  \n",
       "num_actv_bc_tl                       1.0  \n",
       "num_rev_accts                        3.0  \n",
       "num_sats                             4.0  \n",
       "num_tl_120dpd_2m                     0.0  \n",
       "num_tl_30dpd                         0.0  \n",
       "num_tl_90g_dpd_24m                   0.0  \n",
       "num_tl_op_past_12m                   0.0  \n",
       "open_acc                             4.0  \n",
       "open_il_24m                          3.0  \n",
       "open_rv_24m                          1.0  \n",
       "percent_bc_gt_75                   100.0  \n",
       "pub_rec                              0.0  \n",
       "pub_rec_bankruptcies                 0.0  \n",
       "purpose                            other  \n",
       "revol_util                         88.6%  \n",
       "tax_liens                            0.0  \n",
       "term                           60 months  \n",
       "title                              Other  \n",
       "total_acc                           16.0  \n",
       "verification_status         Not Verified  \n",
       "zip_code                           453xx  "
      ]
     },
     "execution_count": 3,
     "metadata": {},
     "output_type": "execute_result"
    }
   ],
   "source": [
    "df.head().T"
   ]
  },
  {
   "cell_type": "code",
   "execution_count": 4,
   "id": "0a4994c8",
   "metadata": {},
   "outputs": [
    {
     "name": "stdout",
     "output_type": "stream",
     "text": [
      "<class 'pandas.core.frame.DataFrame'>\n",
      "RangeIndex: 1199861 entries, 0 to 1199860\n",
      "Data columns (total 45 columns):\n",
      " #   Column                      Non-Null Count    Dtype  \n",
      "---  ------                      --------------    -----  \n",
      " 0   index                       1199861 non-null  int64  \n",
      " 1   acc_now_delinq              1199861 non-null  float64\n",
      " 2   addr_state                  1199861 non-null  object \n",
      " 3   annual_inc                  1199861 non-null  float64\n",
      " 4   chargeoff_within_12_mths    1199824 non-null  float64\n",
      " 5   collections_12_mths_ex_med  1199824 non-null  float64\n",
      " 6   delinq_2yrs                 1199861 non-null  float64\n",
      " 7   dti                         1199861 non-null  float64\n",
      " 8   earliest_cr_line            1199861 non-null  object \n",
      " 9   emp_length                  1128114 non-null  object \n",
      " 10  fico_range_high             1199861 non-null  float64\n",
      " 11  fico_range_low              1199861 non-null  float64\n",
      " 12  funded_amnt                 1199861 non-null  float64\n",
      " 13  home_ownership              1199861 non-null  object \n",
      " 14  inq_last_12m                632646 non-null   float64\n",
      " 15  installment                 1199861 non-null  float64\n",
      " 16  int_rate                    1199861 non-null  object \n",
      " 17  issue_d                     1199861 non-null  object \n",
      " 18  loan_amnt                   1199861 non-null  float64\n",
      " 19  mort_acc                    1168320 non-null  float64\n",
      " 20  mths_since_last_delinq      592418 non-null   float64\n",
      " 21  mths_since_recent_bc_dlq    282665 non-null   float64\n",
      " 22  mths_since_recent_inq       1050080 non-null  float64\n",
      " 23  num_accts_ever_120_pd       1154852 non-null  float64\n",
      " 24  num_actv_bc_tl              1154852 non-null  float64\n",
      " 25  num_rev_accts               1154851 non-null  float64\n",
      " 26  num_sats                    1162566 non-null  float64\n",
      " 27  num_tl_120dpd_2m            1109253 non-null  float64\n",
      " 28  num_tl_30dpd                1154852 non-null  float64\n",
      " 29  num_tl_90g_dpd_24m          1154852 non-null  float64\n",
      " 30  num_tl_op_past_12m          1154852 non-null  float64\n",
      " 31  open_acc                    1199861 non-null  float64\n",
      " 32  open_il_24m                 632647 non-null   float64\n",
      " 33  open_rv_24m                 632647 non-null   float64\n",
      " 34  percent_bc_gt_75            1155527 non-null  float64\n",
      " 35  pub_rec                     1199861 non-null  float64\n",
      " 36  pub_rec_bankruptcies        1199394 non-null  float64\n",
      " 37  purpose                     1199861 non-null  object \n",
      " 38  revol_util                  1199020 non-null  object \n",
      " 39  tax_liens                   1199833 non-null  float64\n",
      " 40  term                        1199861 non-null  object \n",
      " 41  title                       1186061 non-null  object \n",
      " 42  total_acc                   1199861 non-null  float64\n",
      " 43  verification_status         1199861 non-null  object \n",
      " 44  zip_code                    1199860 non-null  object \n",
      "dtypes: float64(32), int64(1), object(12)\n",
      "memory usage: 411.9+ MB\n"
     ]
    }
   ],
   "source": [
    "df.info()"
   ]
  },
  {
   "cell_type": "code",
   "execution_count": 5,
   "id": "06a688ca",
   "metadata": {},
   "outputs": [],
   "source": [
    "df = df.drop('index', axis = 1)"
   ]
  },
  {
   "cell_type": "code",
   "execution_count": 6,
   "id": "7277491c",
   "metadata": {},
   "outputs": [
    {
     "data": {
      "text/plain": [
       "acc_now_delinq                     0\n",
       "addr_state                         0\n",
       "annual_inc                         0\n",
       "chargeoff_within_12_mths          37\n",
       "collections_12_mths_ex_med        37\n",
       "delinq_2yrs                        0\n",
       "dti                                0\n",
       "earliest_cr_line                   0\n",
       "emp_length                     71747\n",
       "fico_range_high                    0\n",
       "fico_range_low                     0\n",
       "funded_amnt                        0\n",
       "home_ownership                     0\n",
       "inq_last_12m                  567215\n",
       "installment                        0\n",
       "int_rate                           0\n",
       "issue_d                            0\n",
       "loan_amnt                          0\n",
       "mort_acc                       31541\n",
       "mths_since_last_delinq        607443\n",
       "mths_since_recent_bc_dlq      917196\n",
       "mths_since_recent_inq         149781\n",
       "num_accts_ever_120_pd          45009\n",
       "num_actv_bc_tl                 45009\n",
       "num_rev_accts                  45010\n",
       "num_sats                       37295\n",
       "num_tl_120dpd_2m               90608\n",
       "num_tl_30dpd                   45009\n",
       "num_tl_90g_dpd_24m             45009\n",
       "num_tl_op_past_12m             45009\n",
       "open_acc                           0\n",
       "open_il_24m                   567214\n",
       "open_rv_24m                   567214\n",
       "percent_bc_gt_75               44334\n",
       "pub_rec                            0\n",
       "pub_rec_bankruptcies             467\n",
       "purpose                            0\n",
       "revol_util                       841\n",
       "tax_liens                         28\n",
       "term                               0\n",
       "title                          13800\n",
       "total_acc                          0\n",
       "verification_status                0\n",
       "zip_code                           1\n",
       "dtype: int64"
      ]
     },
     "execution_count": 6,
     "metadata": {},
     "output_type": "execute_result"
    }
   ],
   "source": [
    "df.isna().sum()"
   ]
  },
  {
   "cell_type": "markdown",
   "id": "bc223d8b",
   "metadata": {},
   "source": [
    "В нашем датафрейме присутствует большое количество пропущенных значений. Избавимся от них."
   ]
  },
  {
   "cell_type": "code",
   "execution_count": 7,
   "id": "0f5c819a",
   "metadata": {},
   "outputs": [
    {
     "data": {
      "text/html": [
       "<div>\n",
       "<style scoped>\n",
       "    .dataframe tbody tr th:only-of-type {\n",
       "        vertical-align: middle;\n",
       "    }\n",
       "\n",
       "    .dataframe tbody tr th {\n",
       "        vertical-align: top;\n",
       "    }\n",
       "\n",
       "    .dataframe thead th {\n",
       "        text-align: right;\n",
       "    }\n",
       "</style>\n",
       "<table border=\"1\" class=\"dataframe\">\n",
       "  <thead>\n",
       "    <tr style=\"text-align: right;\">\n",
       "      <th></th>\n",
       "      <th>acc_now_delinq</th>\n",
       "      <th>addr_state</th>\n",
       "      <th>annual_inc</th>\n",
       "      <th>chargeoff_within_12_mths</th>\n",
       "      <th>collections_12_mths_ex_med</th>\n",
       "      <th>delinq_2yrs</th>\n",
       "      <th>dti</th>\n",
       "      <th>earliest_cr_line</th>\n",
       "      <th>emp_length</th>\n",
       "      <th>fico_range_high</th>\n",
       "      <th>...</th>\n",
       "      <th>pub_rec</th>\n",
       "      <th>pub_rec_bankruptcies</th>\n",
       "      <th>purpose</th>\n",
       "      <th>revol_util</th>\n",
       "      <th>tax_liens</th>\n",
       "      <th>term</th>\n",
       "      <th>title</th>\n",
       "      <th>total_acc</th>\n",
       "      <th>verification_status</th>\n",
       "      <th>zip_code</th>\n",
       "    </tr>\n",
       "  </thead>\n",
       "  <tbody>\n",
       "    <tr>\n",
       "      <th>968046</th>\n",
       "      <td>0.0</td>\n",
       "      <td>AL</td>\n",
       "      <td>40000.0</td>\n",
       "      <td>0.0</td>\n",
       "      <td>0.0</td>\n",
       "      <td>0.0</td>\n",
       "      <td>22.86</td>\n",
       "      <td>Jul-2005</td>\n",
       "      <td>10+ years</td>\n",
       "      <td>674.0</td>\n",
       "      <td>...</td>\n",
       "      <td>1.0</td>\n",
       "      <td>1.0</td>\n",
       "      <td>debt_consolidation</td>\n",
       "      <td>68.5%</td>\n",
       "      <td>0.0</td>\n",
       "      <td>36 months</td>\n",
       "      <td>Debt consolidation</td>\n",
       "      <td>18.0</td>\n",
       "      <td>Verified</td>\n",
       "      <td>NaN</td>\n",
       "    </tr>\n",
       "  </tbody>\n",
       "</table>\n",
       "<p>1 rows × 44 columns</p>\n",
       "</div>"
      ],
      "text/plain": [
       "        acc_now_delinq addr_state  annual_inc  chargeoff_within_12_mths  \\\n",
       "968046             0.0         AL     40000.0                       0.0   \n",
       "\n",
       "        collections_12_mths_ex_med  delinq_2yrs    dti earliest_cr_line  \\\n",
       "968046                         0.0          0.0  22.86         Jul-2005   \n",
       "\n",
       "       emp_length  fico_range_high  ...  pub_rec  pub_rec_bankruptcies  \\\n",
       "968046  10+ years            674.0  ...      1.0                   1.0   \n",
       "\n",
       "                   purpose  revol_util  tax_liens        term  \\\n",
       "968046  debt_consolidation       68.5%        0.0   36 months   \n",
       "\n",
       "                     title  total_acc  verification_status  zip_code  \n",
       "968046  Debt consolidation       18.0             Verified       NaN  \n",
       "\n",
       "[1 rows x 44 columns]"
      ]
     },
     "execution_count": 7,
     "metadata": {},
     "output_type": "execute_result"
    }
   ],
   "source": [
    "# лишь у одного объекта не хватает zip-кода штата. Предположим, что предоставленный zip-код совпадает с заявленным штатом.\n",
    "df[df['zip_code'].isna()]"
   ]
  },
  {
   "cell_type": "code",
   "execution_count": 8,
   "id": "30fe4733",
   "metadata": {},
   "outputs": [],
   "source": [
    "df.loc[df['zip_code'].isna(), 'zip_code'] = '350xx'"
   ]
  },
  {
   "cell_type": "code",
   "execution_count": 9,
   "id": "21cef844",
   "metadata": {},
   "outputs": [
    {
     "data": {
      "text/plain": [
       "43858"
      ]
     },
     "execution_count": 9,
     "metadata": {},
     "output_type": "execute_result"
    }
   ],
   "source": [
    "df['title'].nunique()\n",
    "#скорее всего, данная колонка просто не будет необходима для построенной модели. \n",
    "#В ней 13800 пропущенных значений, а её назначение - это название займа, предоставленное клиентом."
   ]
  },
  {
   "cell_type": "code",
   "execution_count": 10,
   "id": "5f88e85e",
   "metadata": {},
   "outputs": [],
   "source": [
    "df['emp_length'].fillna(value = 'No info', inplace = True)\n",
    "#Заменим пропущенные значения в данной колонке на подходящее по смыслу значение - \"нет информации\".   "
   ]
  },
  {
   "cell_type": "code",
   "execution_count": 11,
   "id": "711f6bc8",
   "metadata": {},
   "outputs": [
    {
     "data": {
      "text/plain": [
       "0.7644185451481463"
      ]
     },
     "execution_count": 11,
     "metadata": {},
     "output_type": "execute_result"
    }
   ],
   "source": [
    "df['mths_since_recent_bc_dlq'].isna().sum()/df.shape[0]\n",
    "#Заметим, что в данном столбце около 76-77% значений пропущены. Следует в дальнейшем удалить её."
   ]
  },
  {
   "cell_type": "markdown",
   "id": "0c1be8ba",
   "metadata": {},
   "source": [
    "В следующих столбцах всего по 37 пропущенных значений. Ввиду большого объёма данных можно без ущерба для качества модели заполнить пропуски константами - медианными значениемя этих столбцов (исключая нули - иначе медианой будет 0 в обоих случаях)"
   ]
  },
  {
   "cell_type": "code",
   "execution_count": 12,
   "id": "f9d11ca4",
   "metadata": {},
   "outputs": [],
   "source": [
    "val1 = df[df['collections_12_mths_ex_med'] != 0]['collections_12_mths_ex_med'].median()\n",
    "\n",
    "val2 = df[df['chargeoff_within_12_mths'] != 0]['chargeoff_within_12_mths'].median()"
   ]
  },
  {
   "cell_type": "code",
   "execution_count": 13,
   "id": "ac297ab0",
   "metadata": {},
   "outputs": [],
   "source": [
    "df['collections_12_mths_ex_med'].fillna(value = val1, inplace = True)\n",
    "\n",
    "df['chargeoff_within_12_mths'].fillna(value = val2, inplace = True)"
   ]
  },
  {
   "cell_type": "code",
   "execution_count": 14,
   "id": "a1b728eb",
   "metadata": {},
   "outputs": [
    {
     "data": {
      "text/plain": [
       "1316"
      ]
     },
     "execution_count": 14,
     "metadata": {},
     "output_type": "execute_result"
    }
   ],
   "source": [
    "df['revol_util'].nunique()"
   ]
  },
  {
   "cell_type": "markdown",
   "id": "341083be",
   "metadata": {},
   "source": [
    "Имеем 1316 различных значений некоторого коэффициента. В данном случае имеет смысл заменить тип данных на числовой, а затем заполнить медианным значением пропуски (841 объект)"
   ]
  },
  {
   "cell_type": "code",
   "execution_count": 15,
   "id": "be2936e0",
   "metadata": {},
   "outputs": [],
   "source": [
    "def make_ints(x):\n",
    "    if not(x is None):\n",
    "        if type(x) == str:\n",
    "            return float(x[:len(x) - 1])\n"
   ]
  },
  {
   "cell_type": "code",
   "execution_count": 16,
   "id": "c173991d",
   "metadata": {},
   "outputs": [],
   "source": [
    "df['revol_util'] = df['revol_util'].apply(make_ints)\n",
    "val3 = df['revol_util'].median()\n",
    "df['revol_util'].fillna(value = val3, inplace = True)"
   ]
  },
  {
   "cell_type": "markdown",
   "id": "678a66bc",
   "metadata": {},
   "source": [
    "Аналогичным образом поступим с процентной ставкой - изменим тип данных."
   ]
  },
  {
   "cell_type": "code",
   "execution_count": 17,
   "id": "7020a1cd",
   "metadata": {},
   "outputs": [
    {
     "data": {
      "text/plain": [
       "669"
      ]
     },
     "execution_count": 17,
     "metadata": {},
     "output_type": "execute_result"
    }
   ],
   "source": [
    "df['int_rate'].nunique()"
   ]
  },
  {
   "cell_type": "code",
   "execution_count": 18,
   "id": "838a9ad9",
   "metadata": {},
   "outputs": [],
   "source": [
    "df['int_rate'] = df['int_rate'].apply(lambda x: float(x[:len(x)-1]))"
   ]
  },
  {
   "cell_type": "markdown",
   "id": "83a06243",
   "metadata": {},
   "source": [
    "Удалим название займа и колонку с 76% пропущенных значений."
   ]
  },
  {
   "cell_type": "code",
   "execution_count": 19,
   "id": "84d5dac0",
   "metadata": {},
   "outputs": [],
   "source": [
    "df = df.drop(['mths_since_recent_bc_dlq', 'title'], axis = 1)"
   ]
  },
  {
   "cell_type": "markdown",
   "id": "32c1376b",
   "metadata": {},
   "source": [
    "Остальные пропуски заполним значением -999 (т.к. в дальнейшем планируется построение модели на основе деревьев решений, таким образом можно поступить)"
   ]
  },
  {
   "cell_type": "code",
   "execution_count": 20,
   "id": "6eb79d48",
   "metadata": {},
   "outputs": [],
   "source": [
    "df.fillna(value = -999, inplace = True)"
   ]
  },
  {
   "cell_type": "code",
   "execution_count": 21,
   "id": "f7cdfdf5",
   "metadata": {},
   "outputs": [
    {
     "data": {
      "text/plain": [
       "acc_now_delinq                0\n",
       "addr_state                    0\n",
       "annual_inc                    0\n",
       "chargeoff_within_12_mths      0\n",
       "collections_12_mths_ex_med    0\n",
       "delinq_2yrs                   0\n",
       "dti                           0\n",
       "earliest_cr_line              0\n",
       "emp_length                    0\n",
       "fico_range_high               0\n",
       "fico_range_low                0\n",
       "funded_amnt                   0\n",
       "home_ownership                0\n",
       "inq_last_12m                  0\n",
       "installment                   0\n",
       "int_rate                      0\n",
       "issue_d                       0\n",
       "loan_amnt                     0\n",
       "mort_acc                      0\n",
       "mths_since_last_delinq        0\n",
       "mths_since_recent_inq         0\n",
       "num_accts_ever_120_pd         0\n",
       "num_actv_bc_tl                0\n",
       "num_rev_accts                 0\n",
       "num_sats                      0\n",
       "num_tl_120dpd_2m              0\n",
       "num_tl_30dpd                  0\n",
       "num_tl_90g_dpd_24m            0\n",
       "num_tl_op_past_12m            0\n",
       "open_acc                      0\n",
       "open_il_24m                   0\n",
       "open_rv_24m                   0\n",
       "percent_bc_gt_75              0\n",
       "pub_rec                       0\n",
       "pub_rec_bankruptcies          0\n",
       "purpose                       0\n",
       "revol_util                    0\n",
       "tax_liens                     0\n",
       "term                          0\n",
       "total_acc                     0\n",
       "verification_status           0\n",
       "zip_code                      0\n",
       "dtype: int64"
      ]
     },
     "execution_count": 21,
     "metadata": {},
     "output_type": "execute_result"
    }
   ],
   "source": [
    "df.isna().sum()"
   ]
  },
  {
   "cell_type": "code",
   "execution_count": 22,
   "id": "a0d86b76",
   "metadata": {},
   "outputs": [],
   "source": [
    "import matplotlib.pyplot as plt\n",
    "import seaborn as sns"
   ]
  },
  {
   "cell_type": "markdown",
   "id": "61e04566",
   "metadata": {},
   "source": [
    "Посмотрим на тепловую карту корреляции данных."
   ]
  },
  {
   "cell_type": "code",
   "execution_count": 23,
   "id": "b089371e",
   "metadata": {},
   "outputs": [
    {
     "data": {
      "image/png": "[encoded data removed]",
      "text/plain": [
       "<Figure size 1280x960 with 2 Axes>"
      ]
     },
     "metadata": {},
     "output_type": "display_data"
    }
   ],
   "source": [
    "plt.figure(dpi = 200);\n",
    "ax = sns.heatmap(data = df.corr(), cmap = 'viridis');\n",
    "ax.tick_params(axis='both', which='major', labelsize=7)"
   ]
  },
  {
   "cell_type": "markdown",
   "id": "ecac0b48",
   "metadata": {},
   "source": [
    "Наблюдаем сильную корреляцию некоторых признаков между собой. Выясним, что это за признаки:"
   ]
  },
  {
   "cell_type": "code",
   "execution_count": 24,
   "id": "468c4f8d",
   "metadata": {},
   "outputs": [
    {
     "name": "stdout",
     "output_type": "stream",
     "text": [
      "fico_range_high    1.0\n",
      "fico_range_low     1.0\n",
      "Name: fico_range_high, dtype: float64\n",
      "fico_range_high    1.0\n",
      "fico_range_low     1.0\n",
      "Name: fico_range_low, dtype: float64\n",
      "funded_amnt    1.000000\n",
      "installment    0.952603\n",
      "loan_amnt      0.999688\n",
      "Name: funded_amnt, dtype: float64\n",
      "inq_last_12m    1.000000\n",
      "open_il_24m     0.999992\n",
      "open_rv_24m     0.999989\n",
      "Name: inq_last_12m, dtype: float64\n",
      "funded_amnt    0.952603\n",
      "installment    1.000000\n",
      "loan_amnt      0.952145\n",
      "Name: installment, dtype: float64\n",
      "funded_amnt    0.999688\n",
      "installment    0.952145\n",
      "loan_amnt      1.000000\n",
      "Name: loan_amnt, dtype: float64\n",
      "mort_acc                 1.000000\n",
      "num_accts_ever_120_pd    0.832247\n",
      "num_actv_bc_tl           0.832210\n",
      "num_rev_accts            0.831651\n",
      "num_sats                 0.916913\n",
      "num_tl_30dpd             0.832262\n",
      "num_tl_90g_dpd_24m       0.832260\n",
      "num_tl_op_past_12m       0.832231\n",
      "percent_bc_gt_75         0.825477\n",
      "Name: mort_acc, dtype: float64\n",
      "mort_acc                 0.832247\n",
      "num_accts_ever_120_pd    1.000000\n",
      "num_actv_bc_tl           0.999902\n",
      "num_rev_accts            0.999132\n",
      "num_sats                 0.906903\n",
      "num_tl_30dpd             0.999975\n",
      "num_tl_90g_dpd_24m       0.999978\n",
      "num_tl_op_past_12m       0.999935\n",
      "Name: num_accts_ever_120_pd, dtype: float64\n",
      "mort_acc                 0.832210\n",
      "num_accts_ever_120_pd    0.999902\n",
      "num_actv_bc_tl           1.000000\n",
      "num_rev_accts            0.999287\n",
      "num_sats                 0.907059\n",
      "num_tl_30dpd             0.999931\n",
      "num_tl_90g_dpd_24m       0.999926\n",
      "num_tl_op_past_12m       0.999904\n",
      "Name: num_actv_bc_tl, dtype: float64\n",
      "mort_acc                 0.831651\n",
      "num_accts_ever_120_pd    0.999132\n",
      "num_actv_bc_tl           0.999287\n",
      "num_rev_accts            1.000000\n",
      "num_sats                 0.906979\n",
      "num_tl_30dpd             0.999135\n",
      "num_tl_90g_dpd_24m       0.999134\n",
      "num_tl_op_past_12m       0.999210\n",
      "Name: num_rev_accts, dtype: float64\n",
      "mort_acc                 0.916913\n",
      "num_accts_ever_120_pd    0.906903\n",
      "num_actv_bc_tl           0.907059\n",
      "num_rev_accts            0.906979\n",
      "num_sats                 1.000000\n",
      "num_tl_30dpd             0.906920\n",
      "num_tl_90g_dpd_24m       0.906917\n",
      "num_tl_op_past_12m       0.906989\n",
      "Name: num_sats, dtype: float64\n",
      "mort_acc                 0.832262\n",
      "num_accts_ever_120_pd    0.999975\n",
      "num_actv_bc_tl           0.999931\n",
      "num_rev_accts            0.999135\n",
      "num_sats                 0.906920\n",
      "num_tl_30dpd             1.000000\n",
      "num_tl_90g_dpd_24m       0.999997\n",
      "num_tl_op_past_12m       0.999954\n",
      "Name: num_tl_30dpd, dtype: float64\n",
      "mort_acc                 0.832260\n",
      "num_accts_ever_120_pd    0.999978\n",
      "num_actv_bc_tl           0.999926\n",
      "num_rev_accts            0.999134\n",
      "num_sats                 0.906917\n",
      "num_tl_30dpd             0.999997\n",
      "num_tl_90g_dpd_24m       1.000000\n",
      "num_tl_op_past_12m       0.999951\n",
      "Name: num_tl_90g_dpd_24m, dtype: float64\n",
      "mort_acc                 0.832231\n",
      "num_accts_ever_120_pd    0.999935\n",
      "num_actv_bc_tl           0.999904\n",
      "num_rev_accts            0.999210\n",
      "num_sats                 0.906989\n",
      "num_tl_30dpd             0.999954\n",
      "num_tl_90g_dpd_24m       0.999951\n",
      "num_tl_op_past_12m       1.000000\n",
      "Name: num_tl_op_past_12m, dtype: float64\n",
      "inq_last_12m    0.999992\n",
      "open_il_24m     1.000000\n",
      "open_rv_24m     0.999990\n",
      "Name: open_il_24m, dtype: float64\n",
      "inq_last_12m    0.999989\n",
      "open_il_24m     0.999990\n",
      "open_rv_24m     1.000000\n",
      "Name: open_rv_24m, dtype: float64\n",
      "mort_acc            0.825477\n",
      "percent_bc_gt_75    1.000000\n",
      "Name: percent_bc_gt_75, dtype: float64\n"
     ]
    }
   ],
   "source": [
    "corrs = df.corr()\n",
    "for col in corrs.columns:\n",
    "    if any((abs(corrs[col]) > 0.8) & (abs(corrs[col]) < 1.0)):\n",
    "        print(corrs[abs(corrs[col]) > 0.8][col])"
   ]
  },
  {
   "cell_type": "markdown",
   "id": "bfb83154",
   "metadata": {},
   "source": [
    "В ходе анализа полученных результатов, было выяснено, что в большинстве случаев корреляция обоснована зависимостью признаков друг от друга в реальной жизни. Однако, использование метода главных компонент не улучшило качества модели, а наоборот, лишь ухудшило.\n",
    "Поэтому далее будут использованы все признаки как есть."
   ]
  },
  {
   "cell_type": "code",
   "execution_count": 25,
   "id": "a954c7bd",
   "metadata": {},
   "outputs": [],
   "source": [
    "from sklearn.model_selection import train_test_split"
   ]
  },
  {
   "cell_type": "code",
   "execution_count": 26,
   "id": "661a950f",
   "metadata": {},
   "outputs": [],
   "source": [
    "y = pd.read_csv('y_train.csv', index_col = 'index')"
   ]
  },
  {
   "cell_type": "markdown",
   "id": "c0464af5",
   "metadata": {},
   "source": [
    "Проверим сбалансированность классов:"
   ]
  },
  {
   "cell_type": "code",
   "execution_count": 27,
   "id": "b86406a6",
   "metadata": {},
   "outputs": [
    {
     "data": {
      "text/plain": [
       "<Axes: xlabel='loan_status', ylabel='count'>"
      ]
     },
     "execution_count": 27,
     "metadata": {},
     "output_type": "execute_result"
    },
    {
     "data": {
      "image/png": "[encoded data removed]",
      "text/plain": [
       "<Figure size 600x800 with 1 Axes>"
      ]
     },
     "metadata": {},
     "output_type": "display_data"
    }
   ],
   "source": [
    "plt.figure(dpi = 200, figsize = (3,4));\n",
    "sns.countplot(x = y['loan_status'], palette = 'Accent')"
   ]
  },
  {
   "cell_type": "code",
   "execution_count": 28,
   "id": "c7a8ed46",
   "metadata": {},
   "outputs": [
    {
     "data": {
      "text/plain": [
       "0.19302902586216236"
      ]
     },
     "execution_count": 28,
     "metadata": {},
     "output_type": "execute_result"
    }
   ],
   "source": [
    "y['loan_status'].sum()/y.shape[0]"
   ]
  },
  {
   "cell_type": "markdown",
   "id": "65ebee6c",
   "metadata": {},
   "source": [
    "В целом, такое соотношение дефолтных и недефолтных займов будет приемлемым для обучения модели."
   ]
  },
  {
   "cell_type": "markdown",
   "id": "02fb489d",
   "metadata": {},
   "source": [
    "Для решения задачи классификации была выбрана модель градиентного бустинга CatBoostClassifier из библиотеки CatBoost."
   ]
  },
  {
   "cell_type": "code",
   "execution_count": 29,
   "id": "7093f1e4",
   "metadata": {},
   "outputs": [],
   "source": [
    "cat_features = []\n",
    "for num, col in enumerate(df.columns):\n",
    "    if df[col].dtype == 'object':\n",
    "        cat_features.append(num)\n",
    "        df[col] = df[col].astype('category')"
   ]
  },
  {
   "cell_type": "code",
   "execution_count": 30,
   "id": "2b3c9197",
   "metadata": {},
   "outputs": [],
   "source": [
    "X_train, X_test, y_train, y_test = train_test_split(df, y, test_size = 0.25, random_state = 17)"
   ]
  },
  {
   "cell_type": "code",
   "execution_count": 31,
   "id": "22893266",
   "metadata": {},
   "outputs": [],
   "source": [
    "from catboost import CatBoostClassifier"
   ]
  },
  {
   "cell_type": "markdown",
   "id": "e2cf9926",
   "metadata": {},
   "source": [
    "Были выбраны следующие параметры модели: метрика лучшей модели - AUC, скорость обучения - 0.25, максимальное количество деревьев - 800, метод сэмплирования - MVS, добавлена балансировка весов классов и максимальная глубина дерева - 5."
   ]
  },
  {
   "cell_type": "code",
   "execution_count": 32,
   "id": "4c77383b",
   "metadata": {},
   "outputs": [],
   "source": [
    "model = CatBoostClassifier(\n",
    "    iterations = 800,\n",
    "    learning_rate = 0.25,\n",
    "    eval_metric = 'AUC',\n",
    "    bootstrap_type = 'MVS',\n",
    "    custom_loss = 'Accuracy',\n",
    "    auto_class_weights = 'Balanced',\n",
    "    depth = 5\n",
    ")"
   ]
  },
  {
   "cell_type": "code",
   "execution_count": 33,
   "id": "f133c930",
   "metadata": {},
   "outputs": [
    {
     "data": {
      "application/vnd.jupyter.widget-view+json": {
       "model_id": "5c637414aabe469b916e2a004c4f1549",
       "version_major": 2,
       "version_minor": 0
      },
      "text/plain": [
       "MetricVisualizer(layout=Layout(align_self='stretch', height='500px'))"
      ]
     },
     "metadata": {},
     "output_type": "display_data"
    },
    {
     "data": {
      "text/plain": [
       "<catboost.core.CatBoostClassifier at 0x1b4cac2a940>"
      ]
     },
     "execution_count": 33,
     "metadata": {},
     "output_type": "execute_result"
    }
   ],
   "source": [
    "model.fit(X_train, y_train,\n",
    "          cat_features = cat_features,\n",
    "          eval_set = (X_test, y_test),\n",
    "          verbose = 0,\n",
    "          plot = True\n",
    ")"
   ]
  },
  {
   "cell_type": "code",
   "execution_count": 34,
   "id": "c20a2642",
   "metadata": {},
   "outputs": [
    {
     "data": {
      "text/plain": [
       "{'learn': {'Accuracy:use_weights=true': 0.680872015000683,\n",
       "  'Logloss': 0.5913570746983555,\n",
       "  'Accuracy:use_weights=false': 0.6699237133221098},\n",
       " 'validation': {'Accuracy:use_weights=true': 0.6674959198303662,\n",
       "  'Logloss': 0.60550840946509,\n",
       "  'Accuracy:use_weights=false': 0.6636752165245394,\n",
       "  'AUC': 0.7310164275685487}}"
      ]
     },
     "execution_count": 34,
     "metadata": {},
     "output_type": "execute_result"
    }
   ],
   "source": [
    "model.best_score_"
   ]
  },
  {
   "cell_type": "code",
   "execution_count": 37,
   "id": "9b1fa378",
   "metadata": {
    "scrolled": true
   },
   "outputs": [
    {
     "name": "stdout",
     "output_type": "stream",
     "text": [
      "nan_mode, Min\n",
      "eval_metric, AUC\n",
      "combinations_ctr, ['Borders:CtrBorderCount=15:CtrBorderType=Uniform:TargetBorderCount=1:TargetBorderType=MinEntropy:Prior=0/1:Prior=0.5/1:Prior=1/1', 'Counter:CtrBorderCount=15:CtrBorderType=Uniform:Prior=0/1']\n",
      "iterations, 800\n",
      "sampling_frequency, PerTree\n",
      "fold_permutation_block, 0\n",
      "leaf_estimation_method, Newton\n",
      "counter_calc_method, SkipTest\n",
      "grow_policy, SymmetricTree\n",
      "penalties_coefficient, 1\n",
      "boosting_type, Plain\n",
      "model_shrink_mode, Constant\n",
      "feature_border_type, GreedyLogSum\n",
      "ctr_leaf_count_limit, 18446744073709551615\n",
      "bayesian_matrix_reg, 0.10000000149011612\n",
      "one_hot_max_size, 2\n",
      "eval_fraction, 0\n",
      "force_unit_auto_pair_weights, False\n",
      "l2_leaf_reg, 3\n",
      "random_strength, 1\n",
      "rsm, 1\n",
      "boost_from_average, False\n",
      "max_ctr_complexity, 4\n",
      "model_size_reg, 0.5\n",
      "simple_ctr, ['Borders:CtrBorderCount=15:CtrBorderType=Uniform:TargetBorderCount=1:TargetBorderType=MinEntropy:Prior=0/1:Prior=0.5/1:Prior=1/1', 'Counter:CtrBorderCount=15:CtrBorderType=Uniform:Prior=0/1']\n",
      "pool_metainfo_options, {'tags': {}}\n",
      "subsample, 0.800000011920929\n",
      "use_best_model, True\n",
      "class_names, [0, 1]\n",
      "random_seed, 0\n",
      "depth, 5\n",
      "ctr_target_border_count, 1\n",
      "posterior_sampling, False\n",
      "has_time, False\n",
      "store_all_simple_ctr, False\n",
      "border_count, 254\n",
      "class_weights, [1, 4.18393611907959]\n",
      "classes_count, 0\n",
      "auto_class_weights, Balanced\n",
      "sparse_features_conflict_fraction, 0\n",
      "custom_metric, ['Accuracy']\n",
      "leaf_estimation_backtracking, AnyImprovement\n",
      "best_model_min_trees, 1\n",
      "model_shrink_rate, 0\n",
      "min_data_in_leaf, 1\n",
      "loss_function, Logloss\n",
      "learning_rate, 0.25\n",
      "score_function, Cosine\n",
      "task_type, CPU\n",
      "leaf_estimation_iterations, 10\n",
      "bootstrap_type, MVS\n",
      "max_leaves, 32\n",
      "permutation_count, 4\n"
     ]
    }
   ],
   "source": [
    "for key,value in model.get_all_params().items():\n",
    "    print('{}, {}'.format(key,value))"
   ]
  },
  {
   "cell_type": "code",
   "execution_count": 38,
   "id": "cce0ddeb",
   "metadata": {},
   "outputs": [],
   "source": [
    "from sklearn.metrics import roc_auc_score"
   ]
  },
  {
   "cell_type": "code",
   "execution_count": 39,
   "id": "d5355e34",
   "metadata": {},
   "outputs": [],
   "source": [
    "def compute_gini(model, y_test, X_test):\n",
    "    auc = roc_auc_score(y_test, model.predict_proba(X_test)[:, 1])\n",
    "    return 2*auc - 1"
   ]
  },
  {
   "cell_type": "code",
   "execution_count": 40,
   "id": "e1b580ca",
   "metadata": {},
   "outputs": [
    {
     "name": "stdout",
     "output_type": "stream",
     "text": [
      "0.46203285513709735\n"
     ]
    }
   ],
   "source": [
    "print(compute_gini(model, y_test, X_test))"
   ]
  },
  {
   "cell_type": "markdown",
   "id": "0d08805d",
   "metadata": {},
   "source": [
    "После обучения на Train-датасете проделаем все те же операции с Test-датасетом и сделаем предсказание."
   ]
  },
  {
   "cell_type": "code",
   "execution_count": 41,
   "id": "cabcf937",
   "metadata": {},
   "outputs": [],
   "source": [
    "df2 = pd.read_csv('X_test.csv')"
   ]
  },
  {
   "cell_type": "code",
   "execution_count": 42,
   "id": "41424a11",
   "metadata": {},
   "outputs": [],
   "source": [
    "df2 = df2.drop('index', axis = 1)"
   ]
  },
  {
   "cell_type": "code",
   "execution_count": 43,
   "id": "b32db5ac",
   "metadata": {},
   "outputs": [
    {
     "data": {
      "text/plain": [
       "acc_now_delinq                     0\n",
       "addr_state                         0\n",
       "annual_inc                         0\n",
       "chargeoff_within_12_mths          19\n",
       "collections_12_mths_ex_med        19\n",
       "delinq_2yrs                        0\n",
       "dti                                0\n",
       "earliest_cr_line                   0\n",
       "emp_length                     35630\n",
       "fico_range_high                    0\n",
       "fico_range_low                     0\n",
       "funded_amnt                        0\n",
       "home_ownership                     0\n",
       "inq_last_12m                  278909\n",
       "installment                        0\n",
       "int_rate                           0\n",
       "issue_d                            0\n",
       "loan_amnt                          0\n",
       "mort_acc                       15740\n",
       "mths_since_last_delinq        299829\n",
       "mths_since_recent_bc_dlq      451967\n",
       "mths_since_recent_inq          74110\n",
       "num_accts_ever_120_pd          22518\n",
       "num_actv_bc_tl                 22518\n",
       "num_rev_accts                  22518\n",
       "num_sats                       18546\n",
       "num_tl_120dpd_2m               45008\n",
       "num_tl_30dpd                   22518\n",
       "num_tl_90g_dpd_24m             22518\n",
       "num_tl_op_past_12m             22518\n",
       "open_acc                           0\n",
       "open_il_24m                   278909\n",
       "open_rv_24m                   278909\n",
       "percent_bc_gt_75               22075\n",
       "pub_rec                            0\n",
       "pub_rec_bankruptcies             230\n",
       "purpose                            0\n",
       "revol_util                       413\n",
       "tax_liens                         11\n",
       "term                               0\n",
       "title                           6844\n",
       "total_acc                          0\n",
       "verification_status                0\n",
       "zip_code                           0\n",
       "dtype: int64"
      ]
     },
     "execution_count": 43,
     "metadata": {},
     "output_type": "execute_result"
    }
   ],
   "source": [
    "df2.isna().sum()"
   ]
  },
  {
   "cell_type": "code",
   "execution_count": 46,
   "id": "67db286c",
   "metadata": {},
   "outputs": [],
   "source": [
    "df2['emp_length'].fillna(value = 'No info', inplace = True)"
   ]
  },
  {
   "cell_type": "code",
   "execution_count": 47,
   "id": "b39eb900",
   "metadata": {},
   "outputs": [],
   "source": [
    "val1 = df2[df2['collections_12_mths_ex_med'] != 0]['collections_12_mths_ex_med'].median()\n",
    "val2 = df2[df2['chargeoff_within_12_mths'] != 0]['chargeoff_within_12_mths'].median()"
   ]
  },
  {
   "cell_type": "code",
   "execution_count": 48,
   "id": "d3a4db6c",
   "metadata": {},
   "outputs": [],
   "source": [
    "df2['collections_12_mths_ex_med'].fillna(value = val1, inplace = True)\n",
    "df2['chargeoff_within_12_mths'].fillna(value = val2, inplace = True)"
   ]
  },
  {
   "cell_type": "code",
   "execution_count": 49,
   "id": "84c94843",
   "metadata": {},
   "outputs": [],
   "source": [
    "df2['revol_util'] = df2['revol_util'].apply(make_ints)\n",
    "val3 = df2['revol_util'].median()\n",
    "df2['revol_util'].fillna(value = val3, inplace = True)"
   ]
  },
  {
   "cell_type": "code",
   "execution_count": 50,
   "id": "9c3c9e40",
   "metadata": {},
   "outputs": [],
   "source": [
    "df2['int_rate'] = df2['int_rate'].apply(lambda x: float(x[:len(x)-1]))"
   ]
  },
  {
   "cell_type": "code",
   "execution_count": 51,
   "id": "397606d3",
   "metadata": {},
   "outputs": [],
   "source": [
    "df2 = df2.drop(['mths_since_recent_bc_dlq', 'title'], axis = 1)"
   ]
  },
  {
   "cell_type": "code",
   "execution_count": 52,
   "id": "4e4262cf",
   "metadata": {},
   "outputs": [],
   "source": [
    "df2.fillna(value = -999, inplace = True)"
   ]
  },
  {
   "cell_type": "code",
   "execution_count": 53,
   "id": "d88b5f47",
   "metadata": {},
   "outputs": [
    {
     "data": {
      "text/plain": [
       "acc_now_delinq                0\n",
       "addr_state                    0\n",
       "annual_inc                    0\n",
       "chargeoff_within_12_mths      0\n",
       "collections_12_mths_ex_med    0\n",
       "delinq_2yrs                   0\n",
       "dti                           0\n",
       "earliest_cr_line              0\n",
       "emp_length                    0\n",
       "fico_range_high               0\n",
       "fico_range_low                0\n",
       "funded_amnt                   0\n",
       "home_ownership                0\n",
       "inq_last_12m                  0\n",
       "installment                   0\n",
       "int_rate                      0\n",
       "issue_d                       0\n",
       "loan_amnt                     0\n",
       "mort_acc                      0\n",
       "mths_since_last_delinq        0\n",
       "mths_since_recent_inq         0\n",
       "num_accts_ever_120_pd         0\n",
       "num_actv_bc_tl                0\n",
       "num_rev_accts                 0\n",
       "num_sats                      0\n",
       "num_tl_120dpd_2m              0\n",
       "num_tl_30dpd                  0\n",
       "num_tl_90g_dpd_24m            0\n",
       "num_tl_op_past_12m            0\n",
       "open_acc                      0\n",
       "open_il_24m                   0\n",
       "open_rv_24m                   0\n",
       "percent_bc_gt_75              0\n",
       "pub_rec                       0\n",
       "pub_rec_bankruptcies          0\n",
       "purpose                       0\n",
       "revol_util                    0\n",
       "tax_liens                     0\n",
       "term                          0\n",
       "total_acc                     0\n",
       "verification_status           0\n",
       "zip_code                      0\n",
       "dtype: int64"
      ]
     },
     "execution_count": 53,
     "metadata": {},
     "output_type": "execute_result"
    }
   ],
   "source": [
    "df2.isna().sum()"
   ]
  },
  {
   "cell_type": "code",
   "execution_count": 54,
   "id": "25e621a1",
   "metadata": {},
   "outputs": [],
   "source": [
    "for col in df2.columns:\n",
    "    if df2[col].dtype == 'object':\n",
    "        df2[col] = df2[col].astype('category')"
   ]
  },
  {
   "cell_type": "code",
   "execution_count": 55,
   "id": "2bdaabde",
   "metadata": {},
   "outputs": [],
   "source": [
    "y_pred = model.predict_proba(df2)"
   ]
  },
  {
   "cell_type": "code",
   "execution_count": 56,
   "id": "5eccca40",
   "metadata": {},
   "outputs": [],
   "source": [
    "answer = pd.DataFrame(data = {'loan_status' : y_pred[:, 1]})"
   ]
  },
  {
   "cell_type": "code",
   "execution_count": 57,
   "id": "86006c4a",
   "metadata": {},
   "outputs": [],
   "source": [
    "answer.index.name = 'index'"
   ]
  },
  {
   "cell_type": "code",
   "execution_count": 58,
   "id": "ca09a0d7",
   "metadata": {},
   "outputs": [
    {
     "data": {
      "text/html": [
       "<div>\n",
       "<style scoped>\n",
       "    .dataframe tbody tr th:only-of-type {\n",
       "        vertical-align: middle;\n",
       "    }\n",
       "\n",
       "    .dataframe tbody tr th {\n",
       "        vertical-align: top;\n",
       "    }\n",
       "\n",
       "    .dataframe thead th {\n",
       "        text-align: right;\n",
       "    }\n",
       "</style>\n",
       "<table border=\"1\" class=\"dataframe\">\n",
       "  <thead>\n",
       "    <tr style=\"text-align: right;\">\n",
       "      <th></th>\n",
       "      <th>loan_status</th>\n",
       "    </tr>\n",
       "    <tr>\n",
       "      <th>index</th>\n",
       "      <th></th>\n",
       "    </tr>\n",
       "  </thead>\n",
       "  <tbody>\n",
       "    <tr>\n",
       "      <th>0</th>\n",
       "      <td>0.847100</td>\n",
       "    </tr>\n",
       "    <tr>\n",
       "      <th>1</th>\n",
       "      <td>0.628585</td>\n",
       "    </tr>\n",
       "    <tr>\n",
       "      <th>2</th>\n",
       "      <td>0.401442</td>\n",
       "    </tr>\n",
       "    <tr>\n",
       "      <th>3</th>\n",
       "      <td>0.116841</td>\n",
       "    </tr>\n",
       "    <tr>\n",
       "      <th>4</th>\n",
       "      <td>0.275672</td>\n",
       "    </tr>\n",
       "    <tr>\n",
       "      <th>...</th>\n",
       "      <td>...</td>\n",
       "    </tr>\n",
       "    <tr>\n",
       "      <th>590972</th>\n",
       "      <td>0.327451</td>\n",
       "    </tr>\n",
       "    <tr>\n",
       "      <th>590973</th>\n",
       "      <td>0.577423</td>\n",
       "    </tr>\n",
       "    <tr>\n",
       "      <th>590974</th>\n",
       "      <td>0.581073</td>\n",
       "    </tr>\n",
       "    <tr>\n",
       "      <th>590975</th>\n",
       "      <td>0.167559</td>\n",
       "    </tr>\n",
       "    <tr>\n",
       "      <th>590976</th>\n",
       "      <td>0.536615</td>\n",
       "    </tr>\n",
       "  </tbody>\n",
       "</table>\n",
       "<p>590977 rows × 1 columns</p>\n",
       "</div>"
      ],
      "text/plain": [
       "        loan_status\n",
       "index              \n",
       "0          0.847100\n",
       "1          0.628585\n",
       "2          0.401442\n",
       "3          0.116841\n",
       "4          0.275672\n",
       "...             ...\n",
       "590972     0.327451\n",
       "590973     0.577423\n",
       "590974     0.581073\n",
       "590975     0.167559\n",
       "590976     0.536615\n",
       "\n",
       "[590977 rows x 1 columns]"
      ]
     },
     "execution_count": 58,
     "metadata": {},
     "output_type": "execute_result"
    }
   ],
   "source": [
    "answer"
   ]
  },
  {
   "cell_type": "code",
   "execution_count": 89,
   "id": "1a219450",
   "metadata": {},
   "outputs": [],
   "source": [
    "# Выгружаем ответ\n",
    "compression_opts = dict(method='zip',\n",
    "                        archive_name='answer.csv')  \n",
    "answer.to_csv('answer.zip',\n",
    "          compression=compression_opts)  "
   ]
  }
 ],
 "metadata": {
  "kernelspec": {
   "display_name": "Python 3 (ipykernel)",
   "language": "python",
   "name": "python3"
  },
  "language_info": {
   "codemirror_mode": {
    "name": "ipython",
    "version": 3
   },
   "file_extension": ".py",
   "mimetype": "text/x-python",
   "name": "python",
   "nbconvert_exporter": "python",
   "pygments_lexer": "ipython3",
   "version": "3.9.1"
  }
 },
 "nbformat": 4,
 "nbformat_minor": 5
}
